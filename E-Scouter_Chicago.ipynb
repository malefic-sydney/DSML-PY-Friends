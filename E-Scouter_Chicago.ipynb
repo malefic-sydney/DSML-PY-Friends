{
 "cells": [
  {
   "cell_type": "markdown",
   "id": "f9ccf9ae",
   "metadata": {},
   "source": [
    "# E-Scooter Sharing- Chicago, U.S \n"
   ]
  },
  {
   "cell_type": "markdown",
   "id": "c6263ed9",
   "metadata": {},
   "source": [
    "‼️ \n",
    "\n",
    "When working on the tasks, try to also refer to the workshops and the lectures. This way, everyone else can understand why you solved the tasks accordingly and it becomes clear that not only ChatGPT has worked 😊🫶🏼"
   ]
  },
  {
   "cell_type": "markdown",
   "id": "a5db8b08",
   "metadata": {},
   "source": [
    "## Introduction "
   ]
  },
  {
   "cell_type": "markdown",
   "id": "657bb01a",
   "metadata": {},
   "source": [
    "*Co- Author: Sydney Pipkin, Mara Fabiola Garduno Domínguez, Lina Quick, Mina Massoudy, Adéla Fejtová*"
   ]
  },
  {
   "cell_type": "markdown",
   "id": "eaf81535",
   "metadata": {},
   "source": [
    "#### 📚 Data \n",
    "\n",
    "Link: https://data.cityofchicago.org/Transportation/E-Scooter-Trips/2i5w-ykuw/about_data \n",
    "\n",
    "Link Github: https://github.com/malefic-sydney/DSML-PY-Friends"
   ]
  },
  {
   "cell_type": "markdown",
   "id": "ee44e049",
   "metadata": {},
   "source": [
    "### 🎯 Prediction Target\n",
    "\n",
    "Our prediction target is the **trip duration** of individual e-scooter rides, measured in -seconds /minutes- \n",
    "\n",
    "While raw features such as trip distance or exact coordinates are available, we aim to predict trip duration based on **contextual information**, particularly **weather conditions** and **temporal factors** (e.g. time of day, weekday, public holidays). This approach reflects a real-world use case in which precise trip distance is not always known beforehand.\n",
    "\n",
    "By incorporating external data such as weather, we aim to explore the effect of environmental and temporal conditions on the length of micromobility trips. This enhances the model’s ability to generalize to planning scenarios or user behavior forecasting.\n",
    "\n"
   ]
  },
  {
   "cell_type": "markdown",
   "id": "405bf195",
   "metadata": {},
   "source": [
    "### 🧠 Modeling Strategy\n",
    "\n",
    "To predict trip duration, we apply two different supervised machine learning algorithms:\n",
    "\n",
    "1. **Random Forest Regressor** – a tree-based ensemble method known for its robustness and ability to model nonlinear relationships.\n",
    "2. **XGBoost Regressor** – a gradient boosting framework that optimizes performance through additive modeling and regularization.\n",
    "\n",
    "Both models are trained on a feature-enriched dataset including weather conditions (e.g. temperature, precipitation), temporal variables (e.g. hour of day, weekday, holiday), and selected trip metadata. We compare the models based on RMSE, MAE, -and- R² scores.\n"
   ]
  },
  {
   "cell_type": "markdown",
   "id": "a2469b10",
   "metadata": {},
   "source": [
    "## Business Understanding "
   ]
  },
  {
   "cell_type": "markdown",
   "id": "4823598b",
   "metadata": {},
   "source": [
    "#### Problem Statement\n",
    "*why are shared micromonility services such as e -scooters relevant - politically, enviroment, economy-*\n"
   ]
  },
  {
   "cell_type": "markdown",
   "id": "6c48b016",
   "metadata": {},
   "source": [
    "#### Project Goal & Target Definition\n",
    "*What exactly are we trying to predict, and why?*\n",
    "\n",
    "*Why does it make sense to include additional contextual data such as weather and public holidays?*"
   ]
  },
  {
   "cell_type": "markdown",
   "id": "8a4785a7",
   "metadata": {},
   "source": [
    "#### Relevance & Use Case Justification\n",
    "*Why is our model important/relevant?* \n",
    "\n",
    "*e.g. service providers, city planners, users*"
   ]
  },
  {
   "cell_type": "markdown",
   "id": "773bcf52",
   "metadata": {},
   "source": [
    "## Data Understanding "
   ]
  },
  {
   "cell_type": "markdown",
   "id": "0b64f28e",
   "metadata": {},
   "source": [
    "#### Load and describe the raw dataset"
   ]
  },
  {
   "cell_type": "markdown",
   "id": "f431cec7",
   "metadata": {},
   "source": [
    "####  Assess data completeness\n"
   ]
  },
  {
   "cell_type": "markdown",
   "id": "63ac905a",
   "metadata": {},
   "source": [
    "#### Explore distributions\n",
    "*Use histograms, bar charts, or KDE plots to visualize distributions of numeric and categorical features.*\n"
   ]
  },
  {
   "cell_type": "markdown",
   "id": "e6612b7f",
   "metadata": {},
   "source": [
    "#### Analyze temporal aspects"
   ]
  },
  {
   "cell_type": "markdown",
   "id": "f1145bc4",
   "metadata": {},
   "source": [
    " #### Detect outliers & anomalies"
   ]
  },
  {
   "cell_type": "markdown",
   "id": "f95ebddb",
   "metadata": {},
   "source": [
    "#### Initial correlation analysis"
   ]
  },
  {
   "cell_type": "markdown",
   "id": "c52070f0",
   "metadata": {},
   "source": [
    "#### Highlight interesting observations"
   ]
  },
  {
   "cell_type": "markdown",
   "id": "f3d49d05",
   "metadata": {},
   "source": [
    "## Data Preparation "
   ]
  },
  {
   "cell_type": "markdown",
   "id": "f8f2e442",
   "metadata": {},
   "source": [
    "#### Encode categorical variables"
   ]
  },
  {
   "cell_type": "markdown",
   "id": "d61e3d1f",
   "metadata": {},
   "source": [
    "#### Normalize or scale numerical values"
   ]
  },
  {
   "cell_type": "markdown",
   "id": "85bdcd7d",
   "metadata": {},
   "source": [
    "#### Engineer new features "
   ]
  },
  {
   "cell_type": "markdown",
   "id": "0553c94b",
   "metadata": {},
   "source": [
    "#### Add external data"
   ]
  },
  {
   "cell_type": "markdown",
   "id": "09b213fb",
   "metadata": {},
   "source": [
    "#### Final dataset creation"
   ]
  },
  {
   "cell_type": "markdown",
   "id": "e57758f8",
   "metadata": {},
   "source": [
    "## Modeling "
   ]
  },
  {
   "cell_type": "markdown",
   "id": "042811c2",
   "metadata": {},
   "source": [
    "### Task: \n",
    "1. Choose modeling type\t: *Regression or Classification*\n",
    "2. Select two algorithms\t\n",
    "3. Split the data\t\n",
    "4. Train models\t\n",
    "5. Tune hyperparameters\t\n",
    "6. Evaluate using suitable metrics\t: *Regression: RMSE, MAE, R²*  // *Classification: Accuracy, Precision, Recall, F1, ROC-AUC.*\n",
    "7. Compare models\tVisualize + discuss which model performs better and why.\n",
    "8. Analyze feature importance "
   ]
  },
  {
   "cell_type": "markdown",
   "id": "ee85ab3d",
   "metadata": {},
   "source": [
    "## Evulation & Reflection \n"
   ]
  },
  {
   "cell_type": "markdown",
   "id": "6e4120f3",
   "metadata": {},
   "source": []
  },
  {
   "cell_type": "markdown",
   "id": "ed1a71a7",
   "metadata": {},
   "source": [
    "### Source and Tools \n"
   ]
  },
  {
   "cell_type": "markdown",
   "id": "c02f097b",
   "metadata": {},
   "source": []
  }
 ],
 "metadata": {
  "kernelspec": {
   "display_name": "DSML_envo",
   "language": "python",
   "name": "python3"
  },
  "language_info": {
   "codemirror_mode": {
    "name": "ipython",
    "version": 3
   },
   "file_extension": ".py",
   "mimetype": "text/x-python",
   "name": "python",
   "nbconvert_exporter": "python",
   "pygments_lexer": "ipython3",
   "version": "3.13.2"
  }
 },
 "nbformat": 4,
 "nbformat_minor": 5
}
